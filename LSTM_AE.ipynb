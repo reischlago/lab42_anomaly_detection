{
 "cells": [
  {
   "cell_type": "markdown",
   "id": "ca334654",
   "metadata": {},
   "source": [
    "# LSTM-Autoencoder + Supervised LSTM Failure Prediction (Per Room)"
   ]
  },
  {
   "cell_type": "code",
   "execution_count": null,
   "id": "632e2bdd",
   "metadata": {},
   "outputs": [],
   "source": [
    "import sqlite3\n",
    "import pandas as pd\n",
    "import numpy as np\n",
    "from sklearn.preprocessing import StandardScaler\n",
    "from sklearn.model_selection import train_test_split\n",
    "from sklearn.metrics import classification_report, f1_score\n",
    "from keras.models import Model, Sequential\n",
    "from keras.layers import LSTM, Dense, RepeatVector, TimeDistributed, Input\n",
    "import matplotlib.pyplot as plt\n",
    "import time\n",
    "\n",
    "SEQUENCE_LENGTH = 30\n",
    "feature_cols = ['temperature', 'airquality', 'daylight', 'light']\n",
    "\n",
    "df = pd.read_sql_query(\"SELECT * FROM sensor_data_history WHERE timestamp >= datetime('now', '-120 days')\", sqlite3.connect(\"room_data.db\"))\n",
    "df['timestamp'] = pd.to_datetime(df['timestamp'])\n",
    "\n",
    "def compute_aqi(value):\n",
    "    if value <= 500:\n",
    "        return 500\n",
    "    elif value <= 1000:\n",
    "        return 1000\n",
    "    elif value <= 1500:\n",
    "        return 1500\n",
    "    else:\n",
    "        return 2000\n",
    "\n",
    "def create_sequences(X, y, sequence_length):\n",
    "    Xs, ys = [], []\n",
    "    for i in range(len(X) - sequence_length):\n",
    "        Xs.append(X.iloc[i:(i + sequence_length)].values)\n",
    "        ys.append(y.iloc[i + sequence_length])\n",
    "    return np.array(Xs), np.array(ys)\n",
    "\n",
    "def process_room(room_id):\n",
    "    print(f\"\\n Processing room {room_id}\")\n",
    "    room_df = df[df['room_id'] == room_id].copy().sort_values('timestamp').dropna()\n",
    "\n",
    "    room_df['OAQI'] = room_df['airquality'].apply(compute_aqi)\n",
    "    room_df['failure'] = (room_df['OAQI'] > 100).astype(int)\n",
    "    room_df['failure_future'] = room_df['failure'].shift(-SEQUENCE_LENGTH)\n",
    "    room_df = room_df.dropna()\n",
    "\n",
    "    if room_df.empty or room_df.shape[0] < SEQUENCE_LENGTH:\n",
    "        print(\"Not enough data\")\n",
    "        return\n",
    "\n",
    "    scaler = StandardScaler()\n",
    "    try:\n",
    "        room_df[feature_cols] = scaler.fit_transform(room_df[feature_cols])\n",
    "    except ValueError as e:\n",
    "        print(f\"Skipping room {room_id} due to preprocessing error: {e}\")\n",
    "        return\n",
    "\n",
    "    X = room_df[feature_cols]\n",
    "    y = room_df['failure_future']\n",
    "    timestamps = room_df['timestamp']\n",
    "    full_df = room_df.copy()\n",
    "\n",
    "    X_train, X_test, y_train, y_test = train_test_split(X, y, test_size=0.25, shuffle=False)\n",
    "    ts_train, ts_test = train_test_split(timestamps, test_size=0.25, shuffle=False)\n",
    "\n",
    "    if len(X_train) < SEQUENCE_LENGTH or len(X_test) < SEQUENCE_LENGTH:\n",
    "        print(\"Not enough sequence data after split\")\n",
    "        return\n",
    "\n",
    "    X_train_seq, y_train_seq = create_sequences(X_train, y_train, SEQUENCE_LENGTH)\n",
    "    X_test_seq, y_test_seq = create_sequences(X_test, y_test, SEQUENCE_LENGTH)\n",
    "    ts_test_seq = ts_test[SEQUENCE_LENGTH:].reset_index(drop=True)\n",
    "    df_test_seq = full_df.iloc[-len(ts_test_seq):].reset_index(drop=True)\n",
    "\n",
    "    lstm_model = Sequential()\n",
    "    lstm_model.add(LSTM(64, input_shape=(SEQUENCE_LENGTH, len(feature_cols))))\n",
    "    lstm_model.add(Dense(1, activation='sigmoid'))\n",
    "    lstm_model.compile(optimizer='adam', loss='binary_crossentropy', metrics=['accuracy'])\n",
    "    lstm_model.fit(X_train_seq, y_train_seq, epochs=10, batch_size=32, verbose=0)\n",
    "\n",
    "    inputs = Input(shape=(SEQUENCE_LENGTH, len(feature_cols)))\n",
    "    encoded = LSTM(64)(inputs)\n",
    "    repeat = RepeatVector(SEQUENCE_LENGTH)(encoded)\n",
    "    decoded = LSTM(64, return_sequences=True)(repeat)\n",
    "    output = TimeDistributed(Dense(len(feature_cols)))(decoded)\n",
    "    ae_model = Model(inputs, output)\n",
    "    ae_model.compile(optimizer='adam', loss='mse')\n",
    "    ae_model.fit(X_train_seq, X_train_seq, epochs=10, batch_size=32, verbose=0)\n",
    "\n",
    "    X_test_pred = ae_model.predict(X_test_seq)\n",
    "    mse = np.mean(np.power(X_test_seq - X_test_pred, 2), axis=(1,2))\n",
    "    thresh = np.percentile(mse, 95)\n",
    "    AE_anomalies = (mse > thresh).astype(int)\n",
    "\n",
    "    anomalous_indices = np.where(AE_anomalies == 1)[0]\n",
    "    print(\"\\n Anomalous Hours (LSTM-AE):\")\n",
    "    for idx in anomalous_indices:\n",
    "        print(ts_test_seq.iloc[idx])\n",
    "\n",
    "    conn = sqlite3.connect(\"room_data.db\", timeout=30)\n",
    "    cursor = conn.cursor()\n",
    "    cursor.execute(\"\"\"\n",
    "    CREATE TABLE IF NOT EXISTS anomalies (\n",
    "      room_id INTEGER,\n",
    "      timestamp DATETIME,\n",
    "      temperature REAL,\n",
    "      airquality REAL,\n",
    "      daylight REAL,\n",
    "      light INTEGER,\n",
    "      source_model TEXT,\n",
    "      PRIMARY KEY (room_id, timestamp, source_model)\n",
    "    )\n",
    "    \"\"\")\n",
    "    for idx in anomalous_indices:\n",
    "        ts = ts_test_seq.iloc[idx].strftime(\"%Y-%m-%d %H:%M:%S\")\n",
    "        row = df_test_seq.iloc[idx]\n",
    "        for attempt in range(5):\n",
    "            try:\n",
    "                cursor.execute('''\n",
    "                    SELECT COUNT(*) FROM anomalies\n",
    "                    WHERE room_id = ? AND timestamp = ? AND source_model = ?\n",
    "                ''', (room_id, ts, 'LSTM-AE'))\n",
    "                if cursor.fetchone()[0] == 0:\n",
    "                    cursor.execute('''\n",
    "                        INSERT INTO anomalies\n",
    "                        (room_id, timestamp, temperature, airquality, daylight, light, source_model)\n",
    "                        VALUES (?, ?, ?, ?, ?, ?, ?)\n",
    "                    ''', (\n",
    "                        room_id, ts, row['temperature'], row['airquality'], row['daylight'], row['light'], 'LSTM-AE'\n",
    "                    ))\n",
    "                conn.commit()\n",
    "                break\n",
    "            except sqlite3.OperationalError as e:\n",
    "                print(f\"Retrying DB write due to: {e}\")\n",
    "                time.sleep(1)\n",
    "    cursor.close()\n",
    "    conn.close()\n",
    "\n",
    "    lstm_preds = (lstm_model.predict(X_test_seq) > 0.5).astype(int).flatten()\n",
    "    ensemble_preds = ((lstm_preds + AE_anomalies) > 0).astype(int)\n",
    "\n",
    "    print(\"Supervised LSTM\")\n",
    "    print(classification_report(y_test_seq, lstm_preds))\n",
    "    print(\"LSTM-AE\")\n",
    "    print(classification_report(y_test_seq, AE_anomalies))\n",
    "    print(\"Ensemble\")\n",
    "    print(classification_report(y_test_seq, ensemble_preds))\n",
    "\n",
    "    plt.figure(figsize=(10, 4))\n",
    "    plt.plot(y_test_seq, label='True')\n",
    "    plt.plot(lstm_preds, label='LSTM')\n",
    "    plt.plot(AE_anomalies, label='AE')\n",
    "    plt.plot(ensemble_preds, label='Ensemble')\n",
    "    plt.legend()\n",
    "    plt.title(f\"Room {room_id} - Failure Prediction\")\n",
    "    plt.show()\n",
    "\n"
   ]
  },
  {
   "cell_type": "code",
   "execution_count": null,
   "id": "2b8da96f",
   "metadata": {},
   "outputs": [],
   "source": [
    "process_room(1)"
   ]
  },
  {
   "cell_type": "code",
   "execution_count": null,
   "id": "2db57256",
   "metadata": {},
   "outputs": [],
   "source": [
    "process_room(2)"
   ]
  },
  {
   "cell_type": "code",
   "execution_count": null,
   "id": "9627bf3d",
   "metadata": {},
   "outputs": [],
   "source": [
    "process_room(3)"
   ]
  },
  {
   "cell_type": "code",
   "execution_count": null,
   "id": "96759e36",
   "metadata": {},
   "outputs": [],
   "source": [
    "process_room(4)"
   ]
  },
  {
   "cell_type": "code",
   "execution_count": null,
   "id": "a8142ac2",
   "metadata": {},
   "outputs": [],
   "source": [
    "process_room(6)"
   ]
  },
  {
   "cell_type": "code",
   "execution_count": null,
   "id": "a65a1e63",
   "metadata": {},
   "outputs": [],
   "source": [
    "process_room(7)"
   ]
  },
  {
   "cell_type": "code",
   "execution_count": null,
   "id": "e9b2b5e5",
   "metadata": {},
   "outputs": [],
   "source": [
    "process_room(8)"
   ]
  },
  {
   "cell_type": "code",
   "execution_count": null,
   "id": "d5e1d557",
   "metadata": {},
   "outputs": [],
   "source": [
    "process_room(9)"
   ]
  },
  {
   "cell_type": "code",
   "execution_count": null,
   "id": "9026c131",
   "metadata": {},
   "outputs": [],
   "source": [
    "process_room(20)"
   ]
  },
  {
   "cell_type": "code",
   "execution_count": null,
   "id": "d35712d1",
   "metadata": {},
   "outputs": [],
   "source": [
    "process_room(21)"
   ]
  },
  {
   "cell_type": "code",
   "execution_count": null,
   "id": "4d6d378c",
   "metadata": {},
   "outputs": [],
   "source": [
    "process_room(27)"
   ]
  },
  {
   "cell_type": "code",
   "execution_count": null,
   "id": "c57f5d9b",
   "metadata": {},
   "outputs": [],
   "source": [
    "process_room(28)"
   ]
  },
  {
   "cell_type": "code",
   "execution_count": null,
   "id": "39c2548a",
   "metadata": {},
   "outputs": [],
   "source": [
    "process_room(29)"
   ]
  },
  {
   "cell_type": "code",
   "execution_count": null,
   "id": "4b0d60a8",
   "metadata": {},
   "outputs": [],
   "source": [
    "process_room(30)"
   ]
  },
  {
   "cell_type": "code",
   "execution_count": null,
   "id": "8d7d8de5",
   "metadata": {},
   "outputs": [],
   "source": [
    "process_room(32)"
   ]
  },
  {
   "cell_type": "code",
   "execution_count": null,
   "id": "c138ceae",
   "metadata": {},
   "outputs": [],
   "source": [
    "process_room(33)"
   ]
  },
  {
   "cell_type": "code",
   "execution_count": null,
   "id": "bb3e844a",
   "metadata": {},
   "outputs": [],
   "source": [
    "process_room(34)"
   ]
  },
  {
   "cell_type": "code",
   "execution_count": null,
   "id": "04cdcc07",
   "metadata": {},
   "outputs": [],
   "source": [
    "process_room(35)"
   ]
  },
  {
   "cell_type": "code",
   "execution_count": null,
   "id": "dc8b7168",
   "metadata": {},
   "outputs": [],
   "source": [
    "process_room(36)"
   ]
  },
  {
   "cell_type": "code",
   "execution_count": null,
   "id": "9acbe687",
   "metadata": {},
   "outputs": [],
   "source": [
    "process_room(37)"
   ]
  },
  {
   "cell_type": "code",
   "execution_count": null,
   "id": "c0f5fd02",
   "metadata": {},
   "outputs": [],
   "source": [
    "process_room(38)"
   ]
  },
  {
   "cell_type": "code",
   "execution_count": null,
   "id": "c3571f02",
   "metadata": {},
   "outputs": [],
   "source": [
    "process_room(39)"
   ]
  },
  {
   "cell_type": "code",
   "execution_count": null,
   "id": "1ac490a8",
   "metadata": {},
   "outputs": [],
   "source": [
    "process_room(40)"
   ]
  },
  {
   "cell_type": "code",
   "execution_count": null,
   "id": "1f0b6055",
   "metadata": {},
   "outputs": [],
   "source": [
    "process_room(41)"
   ]
  },
  {
   "cell_type": "code",
   "execution_count": null,
   "id": "f2085449",
   "metadata": {},
   "outputs": [],
   "source": [
    "process_room(51)"
   ]
  },
  {
   "cell_type": "code",
   "execution_count": null,
   "id": "f4149a54",
   "metadata": {},
   "outputs": [],
   "source": [
    "process_room(56)"
   ]
  },
  {
   "cell_type": "code",
   "execution_count": null,
   "id": "6e22267a",
   "metadata": {},
   "outputs": [],
   "source": [
    "process_room(57)"
   ]
  },
  {
   "cell_type": "code",
   "execution_count": null,
   "id": "77497bcc",
   "metadata": {},
   "outputs": [],
   "source": [
    "process_room(59)"
   ]
  },
  {
   "cell_type": "code",
   "execution_count": null,
   "id": "f251fab7",
   "metadata": {},
   "outputs": [],
   "source": [
    "process_room(60)"
   ]
  },
  {
   "cell_type": "code",
   "execution_count": null,
   "id": "24d940bd",
   "metadata": {},
   "outputs": [],
   "source": [
    "process_room(87)"
   ]
  },
  {
   "cell_type": "code",
   "execution_count": null,
   "id": "54031f68",
   "metadata": {},
   "outputs": [],
   "source": [
    "process_room(88)"
   ]
  },
  {
   "cell_type": "code",
   "execution_count": null,
   "id": "b01ed07f",
   "metadata": {},
   "outputs": [],
   "source": [
    "process_room(89)"
   ]
  },
  {
   "cell_type": "code",
   "execution_count": null,
   "id": "904db2b1",
   "metadata": {},
   "outputs": [],
   "source": [
    "process_room(90)"
   ]
  },
  {
   "cell_type": "code",
   "execution_count": null,
   "id": "d869a5ce",
   "metadata": {},
   "outputs": [],
   "source": [
    "process_room(91)"
   ]
  },
  {
   "cell_type": "code",
   "execution_count": null,
   "id": "f3435d49",
   "metadata": {},
   "outputs": [],
   "source": [
    "process_room(92)"
   ]
  },
  {
   "cell_type": "code",
   "execution_count": null,
   "id": "9f198ada",
   "metadata": {},
   "outputs": [],
   "source": [
    "process_room(93)"
   ]
  },
  {
   "cell_type": "code",
   "execution_count": null,
   "id": "6f77d38a",
   "metadata": {},
   "outputs": [],
   "source": [
    "process_room(94)"
   ]
  },
  {
   "cell_type": "code",
   "execution_count": null,
   "id": "4eab181a",
   "metadata": {},
   "outputs": [],
   "source": [
    "process_room(95)"
   ]
  },
  {
   "cell_type": "code",
   "execution_count": null,
   "id": "d9ee980d",
   "metadata": {},
   "outputs": [],
   "source": [
    "process_room(104)"
   ]
  },
  {
   "cell_type": "code",
   "execution_count": null,
   "id": "739537aa",
   "metadata": {},
   "outputs": [],
   "source": [
    "process_room(105)"
   ]
  },
  {
   "cell_type": "code",
   "execution_count": null,
   "id": "d32a9490",
   "metadata": {},
   "outputs": [],
   "source": [
    "process_room(115)"
   ]
  },
  {
   "cell_type": "code",
   "execution_count": null,
   "id": "e0df692d",
   "metadata": {},
   "outputs": [],
   "source": [
    "process_room(116)"
   ]
  },
  {
   "cell_type": "code",
   "execution_count": null,
   "id": "33902d6d",
   "metadata": {},
   "outputs": [],
   "source": [
    "process_room(117)"
   ]
  },
  {
   "cell_type": "code",
   "execution_count": null,
   "id": "70780e03",
   "metadata": {},
   "outputs": [],
   "source": [
    "process_room(261)"
   ]
  },
  {
   "cell_type": "code",
   "execution_count": null,
   "id": "134b9ddb",
   "metadata": {},
   "outputs": [],
   "source": [
    "process_room(297)"
   ]
  },
  {
   "cell_type": "code",
   "execution_count": null,
   "id": "080b9a8a",
   "metadata": {},
   "outputs": [],
   "source": [
    "process_room(311)"
   ]
  }
 ],
 "metadata": {
  "kernelspec": {
   "display_name": "Python 3",
   "language": "python",
   "name": "python3"
  },
  "language_info": {
   "codemirror_mode": {
    "name": "ipython",
    "version": 3
   },
   "file_extension": ".py",
   "mimetype": "text/x-python",
   "name": "python",
   "nbconvert_exporter": "python",
   "pygments_lexer": "ipython3",
   "version": "3.12.6"
  }
 },
 "nbformat": 4,
 "nbformat_minor": 5
}
