{
 "cells": [
  {
   "cell_type": "markdown",
   "id": "863c642a",
   "metadata": {},
   "source": [
    "# Import dependencies"
   ]
  },
  {
   "cell_type": "code",
   "execution_count": null,
   "id": "f061db80",
   "metadata": {},
   "outputs": [],
   "source": [
    "\n",
    "import requests\n",
    "import sqlite3\n",
    "import json\n",
    "from datetime import datetime, timedelta\n",
    "from time import sleep"
   ]
  },
  {
   "cell_type": "markdown",
   "id": "0563f379",
   "metadata": {},
   "source": [
    "# Set up SQLite database"
   ]
  },
  {
   "cell_type": "code",
   "execution_count": null,
   "id": "d45378ce",
   "metadata": {},
   "outputs": [],
   "source": [
    "\n",
    "conn = sqlite3.connect(\"room_data.db\")\n",
    "cursor = conn.cursor()\n",
    "\n",
    "# Create database structure\n",
    "cursor.execute('''\n",
    "CREATE TABLE IF NOT EXISTS rooms (\n",
    "    id INTEGER PRIMARY KEY,\n",
    "    floor INTEGER,\n",
    "    number TEXT\n",
    ")\n",
    "''')\n",
    "\n",
    "cursor.execute('''\n",
    "CREATE TABLE IF NOT EXISTS sensors (\n",
    "    room_id INTEGER,\n",
    "    sensor_id INTEGER,\n",
    "    name TEXT,\n",
    "    available INTEGER,\n",
    "    PRIMARY KEY (room_id, sensor_id)\n",
    ")\n",
    "''')\n",
    "\n",
    "cursor.execute('''\n",
    "CREATE TABLE IF NOT EXISTS sensor_data (\n",
    "    room_id INTEGER,\n",
    "    timestamp TEXT,\n",
    "    sensor TEXT,\n",
    "    value REAL\n",
    ")\n",
    "''')\n",
    "\n",
    "conn.commit()"
   ]
  },
  {
   "cell_type": "markdown",
   "id": "a496a005",
   "metadata": {},
   "source": [
    "# Authenticate and get token"
   ]
  },
  {
   "cell_type": "code",
   "execution_count": null,
   "id": "2ebebaf9",
   "metadata": {},
   "outputs": [],
   "source": [
    "\n",
    "login_url = \"http://leffe.science.uva.nl:8042/auth/login\"\n",
    "credentials = {\n",
    "    \"username\": \"******\",\n",
    "    \"password\": \"******\"\n",
    "}\n",
    "\n",
    "response = requests.post(login_url, json=credentials)\n",
    "if response.status_code == 200:\n",
    "    token = response.json()[\"access_token\"]\n",
    "    print(\"Authenticated successfully.\")\n",
    "else:\n",
    "    raise Exception(\"Authentication failed:\", response.text)"
   ]
  },
  {
   "cell_type": "markdown",
   "id": "ad69db06",
   "metadata": {},
   "source": [
    "# Fetch room list from all floors (0–6)"
   ]
  },
  {
   "cell_type": "code",
   "execution_count": null,
   "id": "56fbeab2",
   "metadata": {},
   "outputs": [],
   "source": [
    "\n",
    "headers = {\n",
    "    \"accept\": \"application/json\",\n",
    "    \"Authorization\": f\"Bearer {token}\"\n",
    "}\n",
    "\n",
    "rooms = []\n",
    "\n",
    "for floor in range(0, 7):\n",
    "    rooms_url = f\"http://leffe.science.uva.nl:8042/rooms?floor={floor}\"\n",
    "    rooms_response = requests.get(rooms_url, headers=headers)\n",
    "\n",
    "    if rooms_response.status_code != 200:\n",
    "        print(f\"⚠️ Failed to get rooms on floor {floor}: {rooms_response.text}\")\n",
    "        continue\n",
    "\n",
    "    floor_rooms = rooms_response.json()\n",
    "    rooms.extend(floor_rooms)\n",
    "    print(f\"Retrieved {len(floor_rooms)} rooms from floor {floor}\")\n",
    "\n",
    "print(f\"\\n Total rooms retrieved: {len(rooms)}\")\n"
   ]
  },
  {
   "cell_type": "markdown",
   "id": "8ac1bc7d",
   "metadata": {},
   "source": [
    "# Store room and sensor data"
   ]
  },
  {
   "cell_type": "code",
   "execution_count": null,
   "id": "b3921772",
   "metadata": {},
   "outputs": [],
   "source": [
    "\n",
    "for room in rooms:\n",
    "    room_id = room[\"id\"]\n",
    "    floor = room[\"floor\"]\n",
    "    number = room[\"number\"]\n",
    "\n",
    "    cursor.execute(\"INSERT OR REPLACE INTO rooms (id, floor, number) VALUES (?, ?, ?)\", (room_id, floor, number))\n",
    "\n",
    "    for sensor in room[\"sensors\"]:\n",
    "        cursor.execute('''\n",
    "        INSERT OR REPLACE INTO sensors (room_id, sensor_id, name, available)\n",
    "        VALUES (?, ?, ?, ?)\n",
    "        ''', (room_id, sensor[\"id\"], sensor[\"name\"], sensor[\"available\"]))\n",
    "\n",
    "conn.commit()\n",
    "print(\"Room and sensor metadata stored.\")"
   ]
  },
  {
   "cell_type": "markdown",
   "id": "b7206511",
   "metadata": {},
   "source": [
    "# Close open database connections"
   ]
  },
  {
   "cell_type": "code",
   "execution_count": null,
   "id": "d9f886a5",
   "metadata": {},
   "outputs": [],
   "source": [
    "conn.commit()\n",
    "conn.close()"
   ]
  },
  {
   "cell_type": "markdown",
   "id": "67c3291f",
   "metadata": {},
   "source": [
    "# Fetch all new data between dates (except exlcluded room ids)"
   ]
  },
  {
   "cell_type": "code",
   "execution_count": null,
   "id": "66b9022c",
   "metadata": {},
   "outputs": [],
   "source": [
    "import aiohttp\n",
    "import asyncio\n",
    "import aiosqlite\n",
    "from time import time\n",
    "from datetime import datetime, timedelta\n",
    "\n",
    "\n",
    "CONCURRENT_REQUESTS = 20 \n",
    "DB_PATH = \"room_data.db\"\n",
    "API_BASE_URL = \"http://leffe.science.uva.nl:8042\"\n",
    "\n",
    "START_TIME = datetime(2025, 6, 3)\n",
    "END_TIME = datetime(2025, 6, 4)\n",
    "TIME_CHUNK = timedelta(hours=6)\n",
    "\n",
    "# Manually excluded room IDs\n",
    "EXCLUDED_ROOM_IDS = {50, 52, 53, 54, 55, 58, 61, 62, 63, 64, 65, 66, 67, 68, 69, 70, 71, 72, 73, 74, 75, 81, 82, 83, 84, 85, 86, 96, 97, 98, 99, 100, 101, 102, 103, 106, 107, 108, 109, 110, 111, 112, 113, 114, 118, 119, 129, 130, 131, 132, 133, 134, 135, 136, 137, 138, 139, 140, 141, 142, 143, 144, 145, 146, 147, 148, 149, 150, 151, 152, 153, 154, 155, 156, 157, 158, 159, 160, 161, 162, 163, 164, 165, 166, 167, 168, 169, 170, 171, 172, 173, 174, 175, 176, 177, 178, 179, 180, 181, 182, 183, 184, 185, 186, 187, 188, 194, 195, 196, 197, 198, 199, 200, 201, 202, 203, 204, 205, 206, 207, 208, 209, 210, 211, 212, 213, 214, 215, 216, 217, 218, 219, 220, 221, 222, 223, 224, 225, 226, 227, 228, 229, 230, 231, 232, 233, 234, 235, 236, 237, 238, 239, 240, 241, 242, 243, 244, 245, 246, 247, 248, 249, 250, 251, 252, 253, 254, 260, 262, 263, 264, 265, 266, 267, 268, 269, 270, 271, 272, 273, 274, 275, 276, 277, 278, 279, 280, 281, 282, 283, 284, 285, 286, 287, 288, 289, 290, 291, 292, 293, 294, 295, 296, 298, 299, 300, 301, 302, 303, 304, 305, 306, 307, 312, 313, 314, 315, 316, 322, 323, 324, 325, 326}\n",
    "\n",
    "def format_iso8601(dt):\n",
    "    iso_str = dt.isoformat(timespec='milliseconds') + 'Z'\n",
    "    return iso_str.replace(':', '%3A')\n",
    "\n",
    "async def fetch_page(session, room_id, page, start_time=None, end_time=None):\n",
    "    base_url = f\"{API_BASE_URL}/rooms/{room_id}/data\"\n",
    "    params = {\"page\": page}\n",
    "    \n",
    "    if start_time and end_time:\n",
    "        params.update({\n",
    "            \"startTime\": format_iso8601(start_time),\n",
    "            \"endTime\": format_iso8601(end_time)\n",
    "        })\n",
    "    \n",
    "    url = f\"{base_url}?{'&'.join(f'{k}={v}' for k,v in params.items())}\"\n",
    "    \n",
    "    async with session.get(url) as response:\n",
    "        if response.status != 200:\n",
    "            print(f\"Failed to fetch room {room_id} page {page}: {response.status}\")\n",
    "            return None\n",
    "        return await response.json()\n",
    "\n",
    "async def process_room_time_chunk(session, db, room, chunk_start, chunk_end):\n",
    "    \"\"\"Process a room for a specific time chunk\"\"\"\n",
    "    room_id = room[\"id\"]\n",
    "    room_number = room[\"number\"]\n",
    "    \n",
    "    if room_id in EXCLUDED_ROOM_IDS:\n",
    "        return\n",
    "\n",
    "    first_page = await fetch_page(session, room_id, 1, chunk_start, chunk_end)\n",
    "    if not first_page:\n",
    "        return\n",
    "\n",
    "    total_pages = first_page.get(\"pagination\", {}).get(\"totalPages\", 1)\n",
    "    results = first_page.get(\"results\", [])\n",
    "\n",
    "    await insert_results(db, room_id, results)\n",
    "\n",
    "    if total_pages > 1:\n",
    "        semaphore = asyncio.Semaphore(CONCURRENT_REQUESTS)\n",
    "\n",
    "        async def fetch_and_store(page):\n",
    "            async with semaphore:\n",
    "                page_data = await fetch_page(session, room_id, page, chunk_start, chunk_end)\n",
    "                if page_data:\n",
    "                    await insert_results(db, room_id, page_data.get(\"results\", []))\n",
    "\n",
    "        tasks = [fetch_and_store(page) for page in range(2, total_pages + 1)]\n",
    "        await asyncio.gather(*tasks)\n",
    "\n",
    "async def process_room(session, db, room):\n",
    "    current_start = START_TIME\n",
    "    while current_start < END_TIME:\n",
    "        current_end = min(current_start + TIME_CHUNK, END_TIME)\n",
    "        await process_room_time_chunk(session, db, room, current_start, current_end)\n",
    "        current_start = current_end\n",
    "    print(f\"Finished processing room {room['number']} (ID: {room['id']})\")\n",
    "\n",
    "async def insert_results(db, room_id, results):\n",
    "    for record in results:\n",
    "        timestamp = record.get(\"timestamp\")\n",
    "        for sensor, value in record.items():\n",
    "            if sensor != \"timestamp\":\n",
    "                await db.execute('''\n",
    "                    INSERT INTO sensor_data (room_id, timestamp, sensor, value)\n",
    "                    VALUES (?, ?, ?, ?)\n",
    "                ''', (room_id, timestamp, sensor, value))\n",
    "\n",
    "async def main_async():\n",
    "    start_time = time()\n",
    "    async with aiohttp.ClientSession(headers=headers) as session:\n",
    "        async with aiosqlite.connect(DB_PATH) as db:\n",
    "            await db.execute(\"PRAGMA journal_mode=WAL\")\n",
    "            \n",
    "            for room in rooms:\n",
    "                async with db.execute(\"BEGIN\"):\n",
    "                    await process_room(session, db, room)\n",
    "                    await db.commit()\n",
    "    \n",
    "    total_time = time() - start_time\n",
    "    print(f\"\\n All done in {total_time:.2f} seconds!\")\n",
    "\n",
    "# --- To start ---\n",
    "await main_async()"
   ]
  }
 ],
 "metadata": {
  "kernelspec": {
   "display_name": "Python 3",
   "language": "python",
   "name": "python3"
  },
  "language_info": {
   "codemirror_mode": {
    "name": "ipython",
    "version": 3
   },
   "file_extension": ".py",
   "mimetype": "text/x-python",
   "name": "python",
   "nbconvert_exporter": "python",
   "pygments_lexer": "ipython3",
   "version": "3.12.6"
  }
 },
 "nbformat": 4,
 "nbformat_minor": 5
}
