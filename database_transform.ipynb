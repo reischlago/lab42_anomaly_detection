{
 "cells": [
  {
   "cell_type": "markdown",
   "metadata": {},
   "source": [
    "# Pivot database table to one row per timestamp per room instead of several rows for each sensor."
   ]
  },
  {
   "cell_type": "code",
   "execution_count": null,
   "metadata": {},
   "outputs": [],
   "source": [
    "import sqlite3\n",
    "\n",
    "with sqlite3.connect('room_data.db') as conn:\n",
    "    cursor = conn.cursor()\n",
    "\n",
    "    try:\n",
    "        conn.execute(\"BEGIN TRANSACTION\")\n",
    "\n",
    "        cursor.execute(\"\"\"\n",
    "        CREATE TABLE IF NOT EXISTS sensor_data_history (\n",
    "            room_id INTEGER,\n",
    "            timestamp TEXT,\n",
    "            temperature REAL,\n",
    "            airquality REAL,\n",
    "            daylight REAL,\n",
    "            light REAL,\n",
    "            PRIMARY KEY (room_id, timestamp)\n",
    "        )\n",
    "        \"\"\")\n",
    "\n",
    "        cursor.execute(\"\"\"\n",
    "        INSERT OR REPLACE INTO sensor_data_history (room_id, timestamp, temperature, airquality, daylight, light)\n",
    "        SELECT \n",
    "            room_id,\n",
    "            strftime('%Y-%m-%d %H:%M:%S', timestamp) AS timestamp,\n",
    "            MAX(CASE WHEN sensor = 'temperature' THEN value END) AS temperature,\n",
    "            MAX(CASE WHEN sensor = 'airquality' THEN value END) AS airquality,\n",
    "            MAX(CASE WHEN sensor = 'daylight' THEN value END) AS daylight,\n",
    "            MAX(CASE WHEN sensor = 'light' THEN value END) AS light\n",
    "        FROM sensor_data\n",
    "        GROUP BY room_id, timestamp\n",
    "        \"\"\")\n",
    "\n",
    "        cursor.execute(\"\"\"\n",
    "        DELETE FROM sensor_data\n",
    "        WHERE (room_id, timestamp) IN (\n",
    "            SELECT room_id, timestamp\n",
    "            FROM sensor_data_history\n",
    "        )\n",
    "        \"\"\")\n",
    "\n",
    "        conn.commit()\n",
    "\n",
    "    except sqlite3.Error as e:\n",
    "        conn.rollback()\n",
    "        print(f\"Database error: {e}\")\n",
    "        raise"
   ]
  }
 ],
 "metadata": {
  "kernelspec": {
   "display_name": "Python 3",
   "language": "python",
   "name": "python3"
  },
  "language_info": {
   "codemirror_mode": {
    "name": "ipython",
    "version": 3
   },
   "file_extension": ".py",
   "mimetype": "text/x-python",
   "name": "python",
   "nbconvert_exporter": "python",
   "pygments_lexer": "ipython3",
   "version": "3.12.6"
  }
 },
 "nbformat": 4,
 "nbformat_minor": 2
}
